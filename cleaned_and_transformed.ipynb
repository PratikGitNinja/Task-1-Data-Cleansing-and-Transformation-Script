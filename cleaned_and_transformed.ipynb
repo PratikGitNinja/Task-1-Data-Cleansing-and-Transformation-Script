{
 "cells": [
  {
   "cell_type": "markdown",
   "id": "3a3e1463-0997-4f80-80c5-6f29fdb6182c",
   "metadata": {},
   "source": [
    "#### **Read Customer Data:**"
   ]
  },
  {
   "cell_type": "code",
   "execution_count": 3,
   "id": "f6b69b63-e860-4bee-85b5-36867c323350",
   "metadata": {},
   "outputs": [],
   "source": [
    "import pandas as pd"
   ]
  },
  {
   "cell_type": "code",
   "execution_count": 4,
   "id": "87e6e458-c53e-4255-955f-21cdf8011802",
   "metadata": {},
   "outputs": [],
   "source": [
    "cust_df = pd.read_csv(\"customer_data.csv\")"
   ]
  },
  {
   "cell_type": "code",
   "execution_count": 5,
   "id": "3a81e3ba-daa8-49c8-92ae-c3feb8494aac",
   "metadata": {},
   "outputs": [
    {
     "data": {
      "text/html": [
       "<div>\n",
       "<style scoped>\n",
       "    .dataframe tbody tr th:only-of-type {\n",
       "        vertical-align: middle;\n",
       "    }\n",
       "\n",
       "    .dataframe tbody tr th {\n",
       "        vertical-align: top;\n",
       "    }\n",
       "\n",
       "    .dataframe thead th {\n",
       "        text-align: right;\n",
       "    }\n",
       "</style>\n",
       "<table border=\"1\" class=\"dataframe\">\n",
       "  <thead>\n",
       "    <tr style=\"text-align: right;\">\n",
       "      <th></th>\n",
       "      <th>CustomerID</th>\n",
       "      <th>Name</th>\n",
       "      <th>Email</th>\n",
       "      <th>DateOfBirth</th>\n",
       "      <th>RegistrationDate</th>\n",
       "      <th>Country</th>\n",
       "      <th>MonthlySpend</th>\n",
       "    </tr>\n",
       "  </thead>\n",
       "  <tbody>\n",
       "    <tr>\n",
       "      <th>0</th>\n",
       "      <td>1</td>\n",
       "      <td>John Doe</td>\n",
       "      <td>johndoe@example.com</td>\n",
       "      <td>2/15/1985</td>\n",
       "      <td>2024-01-12</td>\n",
       "      <td>United States</td>\n",
       "      <td>200.0</td>\n",
       "    </tr>\n",
       "    <tr>\n",
       "      <th>1</th>\n",
       "      <td>2</td>\n",
       "      <td>Jane Smith</td>\n",
       "      <td>janesmith@example.com</td>\n",
       "      <td>8/20/1990</td>\n",
       "      <td>NaN</td>\n",
       "      <td>United States</td>\n",
       "      <td>300.0</td>\n",
       "    </tr>\n",
       "    <tr>\n",
       "      <th>2</th>\n",
       "      <td>3</td>\n",
       "      <td>Alan Brown</td>\n",
       "      <td>alanbrown@example.com</td>\n",
       "      <td>1/15/1975</td>\n",
       "      <td>2024-02-05</td>\n",
       "      <td>Canada</td>\n",
       "      <td>150.0</td>\n",
       "    </tr>\n",
       "    <tr>\n",
       "      <th>3</th>\n",
       "      <td>4</td>\n",
       "      <td>Eva White</td>\n",
       "      <td>evawhite@example.com</td>\n",
       "      <td>7/30/1987</td>\n",
       "      <td>2024-02-15</td>\n",
       "      <td>united states</td>\n",
       "      <td>400.0</td>\n",
       "    </tr>\n",
       "    <tr>\n",
       "      <th>4</th>\n",
       "      <td>5</td>\n",
       "      <td>Mark Black</td>\n",
       "      <td>markblack@example.com</td>\n",
       "      <td>2/12/1982</td>\n",
       "      <td>2024-02-15</td>\n",
       "      <td>Canada</td>\n",
       "      <td>NaN</td>\n",
       "    </tr>\n",
       "  </tbody>\n",
       "</table>\n",
       "</div>"
      ],
      "text/plain": [
       "   CustomerID        Name                  Email DateOfBirth RegistrationDate  \\\n",
       "0           1    John Doe    johndoe@example.com   2/15/1985       2024-01-12   \n",
       "1           2  Jane Smith  janesmith@example.com   8/20/1990              NaN   \n",
       "2           3  Alan Brown  alanbrown@example.com   1/15/1975       2024-02-05   \n",
       "3           4   Eva White   evawhite@example.com   7/30/1987       2024-02-15   \n",
       "4           5  Mark Black  markblack@example.com   2/12/1982       2024-02-15   \n",
       "\n",
       "          Country  MonthlySpend  \n",
       "0   United States         200.0  \n",
       "1  United States          300.0  \n",
       "2          Canada         150.0  \n",
       "3   united states         400.0  \n",
       "4          Canada           NaN  "
      ]
     },
     "execution_count": 5,
     "metadata": {},
     "output_type": "execute_result"
    }
   ],
   "source": [
    "cust_df.head()"
   ]
  },
  {
   "cell_type": "markdown",
   "id": "15da7588-1276-456b-b725-e75c8662f83e",
   "metadata": {},
   "source": [
    "#### **Change the datatype of the columns:**"
   ]
  },
  {
   "cell_type": "code",
   "execution_count": 6,
   "id": "b82ae972-6ed7-43c9-a536-6b8b3ae12763",
   "metadata": {},
   "outputs": [],
   "source": [
    "cust_df['DateOfBirth'] = pd.to_datetime(cust_df['DateOfBirth'],errors='coerce')\n",
    "cust_df['RegistrationDate'] = pd.to_datetime(cust_df['RegistrationDate'],errors='coerce')"
   ]
  },
  {
   "cell_type": "code",
   "execution_count": 7,
   "id": "889fb166-5ffc-4632-a9eb-944aea6a16f1",
   "metadata": {},
   "outputs": [
    {
     "data": {
      "text/plain": [
       "CustomerID                   int64\n",
       "Name                        object\n",
       "Email                       object\n",
       "DateOfBirth         datetime64[ns]\n",
       "RegistrationDate    datetime64[ns]\n",
       "Country                     object\n",
       "MonthlySpend               float64\n",
       "dtype: object"
      ]
     },
     "execution_count": 7,
     "metadata": {},
     "output_type": "execute_result"
    }
   ],
   "source": [
    "cust_df.dtypes"
   ]
  },
  {
   "cell_type": "markdown",
   "id": "68bc62c5-2f07-49b1-8d16-3ab29ee55a3b",
   "metadata": {},
   "source": [
    "### **Data Cleansing**"
   ]
  },
  {
   "cell_type": "markdown",
   "id": "9b380fec-d5ed-46a8-a67b-a22ff36cdbe5",
   "metadata": {},
   "source": [
    "#### **Handling missing values:**"
   ]
  },
  {
   "cell_type": "code",
   "execution_count": 8,
   "id": "22113cae-68ec-4667-85a9-40c6dff13b3f",
   "metadata": {},
   "outputs": [
    {
     "name": "stdout",
     "output_type": "stream",
     "text": [
      "CustomerID          0\n",
      "Name                0\n",
      "Email               0\n",
      "DateOfBirth         1\n",
      "RegistrationDate    1\n",
      "Country             0\n",
      "MonthlySpend        3\n",
      "dtype: int64\n"
     ]
    }
   ],
   "source": [
    "print(cust_df.isna().sum())"
   ]
  },
  {
   "cell_type": "code",
   "execution_count": 9,
   "id": "da3f9f1c-ec57-42a4-9126-de257007684d",
   "metadata": {},
   "outputs": [
    {
     "name": "stderr",
     "output_type": "stream",
     "text": [
      "C:\\Users\\PratikSingh\\AppData\\Local\\Temp\\ipykernel_23264\\203622516.py:1: FutureWarning: A value is trying to be set on a copy of a DataFrame or Series through chained assignment using an inplace method.\n",
      "The behavior will change in pandas 3.0. This inplace method will never work because the intermediate object on which we are setting values always behaves as a copy.\n",
      "\n",
      "For example, when doing 'df[col].method(value, inplace=True)', try using 'df.method({col: value}, inplace=True)' or df[col] = df[col].method(value) instead, to perform the operation inplace on the original object.\n",
      "\n",
      "\n",
      "  cust_df['RegistrationDate'].fillna('2024-08-26',inplace = True)\n"
     ]
    }
   ],
   "source": [
    "cust_df['RegistrationDate'].fillna('2024-08-26',inplace = True)"
   ]
  },
  {
   "cell_type": "code",
   "execution_count": 10,
   "id": "aaffc7a2-bda8-47a8-8ffa-5d47a6849ece",
   "metadata": {},
   "outputs": [
    {
     "name": "stderr",
     "output_type": "stream",
     "text": [
      "C:\\Users\\PratikSingh\\AppData\\Local\\Temp\\ipykernel_23264\\2680093630.py:1: FutureWarning: A value is trying to be set on a copy of a DataFrame or Series through chained assignment using an inplace method.\n",
      "The behavior will change in pandas 3.0. This inplace method will never work because the intermediate object on which we are setting values always behaves as a copy.\n",
      "\n",
      "For example, when doing 'df[col].method(value, inplace=True)', try using 'df.method({col: value}, inplace=True)' or df[col] = df[col].method(value) instead, to perform the operation inplace on the original object.\n",
      "\n",
      "\n",
      "  cust_df['DateOfBirth'].fillna('31/12/1999',inplace = True)\n"
     ]
    }
   ],
   "source": [
    "cust_df['DateOfBirth'].fillna('31/12/1999',inplace = True)"
   ]
  },
  {
   "cell_type": "code",
   "execution_count": 11,
   "id": "a99a66fd-37da-4946-871d-deba7b156974",
   "metadata": {},
   "outputs": [
    {
     "name": "stderr",
     "output_type": "stream",
     "text": [
      "C:\\Users\\PratikSingh\\AppData\\Local\\Temp\\ipykernel_23264\\3803687305.py:1: FutureWarning: A value is trying to be set on a copy of a DataFrame or Series through chained assignment using an inplace method.\n",
      "The behavior will change in pandas 3.0. This inplace method will never work because the intermediate object on which we are setting values always behaves as a copy.\n",
      "\n",
      "For example, when doing 'df[col].method(value, inplace=True)', try using 'df.method({col: value}, inplace=True)' or df[col] = df[col].method(value) instead, to perform the operation inplace on the original object.\n",
      "\n",
      "\n",
      "  cust_df['MonthlySpend'].fillna(0,inplace = True)\n"
     ]
    }
   ],
   "source": [
    "cust_df['MonthlySpend'].fillna(0,inplace = True)"
   ]
  },
  {
   "cell_type": "markdown",
   "id": "5e6da844-d2e7-4747-a555-3ff43db02394",
   "metadata": {},
   "source": [
    "#### **Standardize data formats (YYYY-MM-DD):**"
   ]
  },
  {
   "cell_type": "code",
   "execution_count": 12,
   "id": "e16f66d4-4fdc-4561-b4e3-24ae662449fd",
   "metadata": {},
   "outputs": [],
   "source": [
    "cust_df['DateOfBirth'] = pd.to_datetime(cust_df['DateOfBirth'],format = '%y-%m-%d')"
   ]
  },
  {
   "cell_type": "code",
   "execution_count": 13,
   "id": "f856bf25-f97f-4ea2-9855-b52c75383838",
   "metadata": {},
   "outputs": [
    {
     "data": {
      "text/html": [
       "<div>\n",
       "<style scoped>\n",
       "    .dataframe tbody tr th:only-of-type {\n",
       "        vertical-align: middle;\n",
       "    }\n",
       "\n",
       "    .dataframe tbody tr th {\n",
       "        vertical-align: top;\n",
       "    }\n",
       "\n",
       "    .dataframe thead th {\n",
       "        text-align: right;\n",
       "    }\n",
       "</style>\n",
       "<table border=\"1\" class=\"dataframe\">\n",
       "  <thead>\n",
       "    <tr style=\"text-align: right;\">\n",
       "      <th></th>\n",
       "      <th>CustomerID</th>\n",
       "      <th>Name</th>\n",
       "      <th>Email</th>\n",
       "      <th>DateOfBirth</th>\n",
       "      <th>RegistrationDate</th>\n",
       "      <th>Country</th>\n",
       "      <th>MonthlySpend</th>\n",
       "    </tr>\n",
       "  </thead>\n",
       "  <tbody>\n",
       "    <tr>\n",
       "      <th>0</th>\n",
       "      <td>1</td>\n",
       "      <td>John Doe</td>\n",
       "      <td>johndoe@example.com</td>\n",
       "      <td>1985-02-15</td>\n",
       "      <td>2024-01-12</td>\n",
       "      <td>United States</td>\n",
       "      <td>200.0</td>\n",
       "    </tr>\n",
       "    <tr>\n",
       "      <th>1</th>\n",
       "      <td>2</td>\n",
       "      <td>Jane Smith</td>\n",
       "      <td>janesmith@example.com</td>\n",
       "      <td>1990-08-20</td>\n",
       "      <td>2024-08-26</td>\n",
       "      <td>United States</td>\n",
       "      <td>300.0</td>\n",
       "    </tr>\n",
       "    <tr>\n",
       "      <th>2</th>\n",
       "      <td>3</td>\n",
       "      <td>Alan Brown</td>\n",
       "      <td>alanbrown@example.com</td>\n",
       "      <td>1975-01-15</td>\n",
       "      <td>2024-02-05</td>\n",
       "      <td>Canada</td>\n",
       "      <td>150.0</td>\n",
       "    </tr>\n",
       "    <tr>\n",
       "      <th>3</th>\n",
       "      <td>4</td>\n",
       "      <td>Eva White</td>\n",
       "      <td>evawhite@example.com</td>\n",
       "      <td>1987-07-30</td>\n",
       "      <td>2024-02-15</td>\n",
       "      <td>united states</td>\n",
       "      <td>400.0</td>\n",
       "    </tr>\n",
       "    <tr>\n",
       "      <th>4</th>\n",
       "      <td>5</td>\n",
       "      <td>Mark Black</td>\n",
       "      <td>markblack@example.com</td>\n",
       "      <td>1982-02-12</td>\n",
       "      <td>2024-02-15</td>\n",
       "      <td>Canada</td>\n",
       "      <td>0.0</td>\n",
       "    </tr>\n",
       "  </tbody>\n",
       "</table>\n",
       "</div>"
      ],
      "text/plain": [
       "   CustomerID        Name                  Email DateOfBirth RegistrationDate  \\\n",
       "0           1    John Doe    johndoe@example.com  1985-02-15       2024-01-12   \n",
       "1           2  Jane Smith  janesmith@example.com  1990-08-20       2024-08-26   \n",
       "2           3  Alan Brown  alanbrown@example.com  1975-01-15       2024-02-05   \n",
       "3           4   Eva White   evawhite@example.com  1987-07-30       2024-02-15   \n",
       "4           5  Mark Black  markblack@example.com  1982-02-12       2024-02-15   \n",
       "\n",
       "          Country  MonthlySpend  \n",
       "0   United States         200.0  \n",
       "1  United States          300.0  \n",
       "2          Canada         150.0  \n",
       "3   united states         400.0  \n",
       "4          Canada           0.0  "
      ]
     },
     "execution_count": 13,
     "metadata": {},
     "output_type": "execute_result"
    }
   ],
   "source": [
    "cust_df.head()"
   ]
  },
  {
   "cell_type": "markdown",
   "id": "1f0cdbe1-e0cf-4f65-b9f3-ca1fe5960e2f",
   "metadata": {},
   "source": [
    "#### **Trim the white space:**"
   ]
  },
  {
   "cell_type": "code",
   "execution_count": 14,
   "id": "d9097175-e389-4fdf-a4c6-1d3c0780fe7a",
   "metadata": {},
   "outputs": [],
   "source": [
    "cust_df['Country'] = cust_df['Country'].str.strip()"
   ]
  },
  {
   "cell_type": "code",
   "execution_count": 15,
   "id": "35c0ba7a-d846-4b14-8119-d7b65e81d355",
   "metadata": {},
   "outputs": [
    {
     "data": {
      "text/html": [
       "<div>\n",
       "<style scoped>\n",
       "    .dataframe tbody tr th:only-of-type {\n",
       "        vertical-align: middle;\n",
       "    }\n",
       "\n",
       "    .dataframe tbody tr th {\n",
       "        vertical-align: top;\n",
       "    }\n",
       "\n",
       "    .dataframe thead th {\n",
       "        text-align: right;\n",
       "    }\n",
       "</style>\n",
       "<table border=\"1\" class=\"dataframe\">\n",
       "  <thead>\n",
       "    <tr style=\"text-align: right;\">\n",
       "      <th></th>\n",
       "      <th>CustomerID</th>\n",
       "      <th>Name</th>\n",
       "      <th>Email</th>\n",
       "      <th>DateOfBirth</th>\n",
       "      <th>RegistrationDate</th>\n",
       "      <th>Country</th>\n",
       "      <th>MonthlySpend</th>\n",
       "    </tr>\n",
       "  </thead>\n",
       "  <tbody>\n",
       "    <tr>\n",
       "      <th>0</th>\n",
       "      <td>1</td>\n",
       "      <td>John Doe</td>\n",
       "      <td>johndoe@example.com</td>\n",
       "      <td>1985-02-15</td>\n",
       "      <td>2024-01-12</td>\n",
       "      <td>United States</td>\n",
       "      <td>200.0</td>\n",
       "    </tr>\n",
       "    <tr>\n",
       "      <th>1</th>\n",
       "      <td>2</td>\n",
       "      <td>Jane Smith</td>\n",
       "      <td>janesmith@example.com</td>\n",
       "      <td>1990-08-20</td>\n",
       "      <td>2024-08-26</td>\n",
       "      <td>United States</td>\n",
       "      <td>300.0</td>\n",
       "    </tr>\n",
       "    <tr>\n",
       "      <th>2</th>\n",
       "      <td>3</td>\n",
       "      <td>Alan Brown</td>\n",
       "      <td>alanbrown@example.com</td>\n",
       "      <td>1975-01-15</td>\n",
       "      <td>2024-02-05</td>\n",
       "      <td>Canada</td>\n",
       "      <td>150.0</td>\n",
       "    </tr>\n",
       "    <tr>\n",
       "      <th>3</th>\n",
       "      <td>4</td>\n",
       "      <td>Eva White</td>\n",
       "      <td>evawhite@example.com</td>\n",
       "      <td>1987-07-30</td>\n",
       "      <td>2024-02-15</td>\n",
       "      <td>united states</td>\n",
       "      <td>400.0</td>\n",
       "    </tr>\n",
       "    <tr>\n",
       "      <th>4</th>\n",
       "      <td>5</td>\n",
       "      <td>Mark Black</td>\n",
       "      <td>markblack@example.com</td>\n",
       "      <td>1982-02-12</td>\n",
       "      <td>2024-02-15</td>\n",
       "      <td>Canada</td>\n",
       "      <td>0.0</td>\n",
       "    </tr>\n",
       "  </tbody>\n",
       "</table>\n",
       "</div>"
      ],
      "text/plain": [
       "   CustomerID        Name                  Email DateOfBirth RegistrationDate  \\\n",
       "0           1    John Doe    johndoe@example.com  1985-02-15       2024-01-12   \n",
       "1           2  Jane Smith  janesmith@example.com  1990-08-20       2024-08-26   \n",
       "2           3  Alan Brown  alanbrown@example.com  1975-01-15       2024-02-05   \n",
       "3           4   Eva White   evawhite@example.com  1987-07-30       2024-02-15   \n",
       "4           5  Mark Black  markblack@example.com  1982-02-12       2024-02-15   \n",
       "\n",
       "         Country  MonthlySpend  \n",
       "0  United States         200.0  \n",
       "1  United States         300.0  \n",
       "2         Canada         150.0  \n",
       "3  united states         400.0  \n",
       "4         Canada           0.0  "
      ]
     },
     "execution_count": 15,
     "metadata": {},
     "output_type": "execute_result"
    }
   ],
   "source": [
    "cust_df.head()"
   ]
  },
  {
   "cell_type": "markdown",
   "id": "9dde041d-1636-4c15-acd7-aaff4f1b5611",
   "metadata": {},
   "source": [
    "#### **Standardize the Country field to have consistent capitalization:**"
   ]
  },
  {
   "cell_type": "code",
   "execution_count": 16,
   "id": "b4e9887b-d985-4046-bafd-0a2913603894",
   "metadata": {},
   "outputs": [],
   "source": [
    "cust_df['Country'] = cust_df['Country'].str.capitalize()"
   ]
  },
  {
   "cell_type": "code",
   "execution_count": 17,
   "id": "e12225f6-a677-4e2d-9974-99cf6f46dd3c",
   "metadata": {},
   "outputs": [
    {
     "data": {
      "text/html": [
       "<div>\n",
       "<style scoped>\n",
       "    .dataframe tbody tr th:only-of-type {\n",
       "        vertical-align: middle;\n",
       "    }\n",
       "\n",
       "    .dataframe tbody tr th {\n",
       "        vertical-align: top;\n",
       "    }\n",
       "\n",
       "    .dataframe thead th {\n",
       "        text-align: right;\n",
       "    }\n",
       "</style>\n",
       "<table border=\"1\" class=\"dataframe\">\n",
       "  <thead>\n",
       "    <tr style=\"text-align: right;\">\n",
       "      <th></th>\n",
       "      <th>CustomerID</th>\n",
       "      <th>Name</th>\n",
       "      <th>Email</th>\n",
       "      <th>DateOfBirth</th>\n",
       "      <th>RegistrationDate</th>\n",
       "      <th>Country</th>\n",
       "      <th>MonthlySpend</th>\n",
       "    </tr>\n",
       "  </thead>\n",
       "  <tbody>\n",
       "    <tr>\n",
       "      <th>0</th>\n",
       "      <td>1</td>\n",
       "      <td>John Doe</td>\n",
       "      <td>johndoe@example.com</td>\n",
       "      <td>1985-02-15</td>\n",
       "      <td>2024-01-12</td>\n",
       "      <td>United states</td>\n",
       "      <td>200.0</td>\n",
       "    </tr>\n",
       "    <tr>\n",
       "      <th>1</th>\n",
       "      <td>2</td>\n",
       "      <td>Jane Smith</td>\n",
       "      <td>janesmith@example.com</td>\n",
       "      <td>1990-08-20</td>\n",
       "      <td>2024-08-26</td>\n",
       "      <td>United states</td>\n",
       "      <td>300.0</td>\n",
       "    </tr>\n",
       "    <tr>\n",
       "      <th>2</th>\n",
       "      <td>3</td>\n",
       "      <td>Alan Brown</td>\n",
       "      <td>alanbrown@example.com</td>\n",
       "      <td>1975-01-15</td>\n",
       "      <td>2024-02-05</td>\n",
       "      <td>Canada</td>\n",
       "      <td>150.0</td>\n",
       "    </tr>\n",
       "    <tr>\n",
       "      <th>3</th>\n",
       "      <td>4</td>\n",
       "      <td>Eva White</td>\n",
       "      <td>evawhite@example.com</td>\n",
       "      <td>1987-07-30</td>\n",
       "      <td>2024-02-15</td>\n",
       "      <td>United states</td>\n",
       "      <td>400.0</td>\n",
       "    </tr>\n",
       "    <tr>\n",
       "      <th>4</th>\n",
       "      <td>5</td>\n",
       "      <td>Mark Black</td>\n",
       "      <td>markblack@example.com</td>\n",
       "      <td>1982-02-12</td>\n",
       "      <td>2024-02-15</td>\n",
       "      <td>Canada</td>\n",
       "      <td>0.0</td>\n",
       "    </tr>\n",
       "  </tbody>\n",
       "</table>\n",
       "</div>"
      ],
      "text/plain": [
       "   CustomerID        Name                  Email DateOfBirth RegistrationDate  \\\n",
       "0           1    John Doe    johndoe@example.com  1985-02-15       2024-01-12   \n",
       "1           2  Jane Smith  janesmith@example.com  1990-08-20       2024-08-26   \n",
       "2           3  Alan Brown  alanbrown@example.com  1975-01-15       2024-02-05   \n",
       "3           4   Eva White   evawhite@example.com  1987-07-30       2024-02-15   \n",
       "4           5  Mark Black  markblack@example.com  1982-02-12       2024-02-15   \n",
       "\n",
       "         Country  MonthlySpend  \n",
       "0  United states         200.0  \n",
       "1  United states         300.0  \n",
       "2         Canada         150.0  \n",
       "3  United states         400.0  \n",
       "4         Canada           0.0  "
      ]
     },
     "execution_count": 17,
     "metadata": {},
     "output_type": "execute_result"
    }
   ],
   "source": [
    "cust_df.head()"
   ]
  },
  {
   "cell_type": "markdown",
   "id": "97456c91-2949-49fd-9b90-eece0cd8e991",
   "metadata": {},
   "source": [
    "#### **Calculate a new column “Age” from DateOfBirth:**"
   ]
  },
  {
   "cell_type": "code",
   "execution_count": 18,
   "id": "47649727-1f73-4852-b7a7-24b7d2e862ff",
   "metadata": {},
   "outputs": [],
   "source": [
    "from datetime import date"
   ]
  },
  {
   "cell_type": "code",
   "execution_count": 19,
   "id": "2aeaf09d-e21b-411e-bcc1-43edb3f2aafb",
   "metadata": {},
   "outputs": [],
   "source": [
    "curr = date.today()"
   ]
  },
  {
   "cell_type": "code",
   "execution_count": 20,
   "id": "190fc3c8-5f8c-49af-b536-de55c6139e55",
   "metadata": {},
   "outputs": [
    {
     "data": {
      "text/plain": [
       "datetime.date(2024, 8, 26)"
      ]
     },
     "execution_count": 20,
     "metadata": {},
     "output_type": "execute_result"
    }
   ],
   "source": [
    "curr"
   ]
  },
  {
   "cell_type": "code",
   "execution_count": 21,
   "id": "9a5082fa-1eeb-41d9-8ce2-c70fc1c17b03",
   "metadata": {},
   "outputs": [],
   "source": [
    "cust_df['Age'] = curr.year-cust_df['DateOfBirth'].dt.year"
   ]
  },
  {
   "cell_type": "markdown",
   "id": "2b7029c1-6268-4f98-af8e-c49b8c41cee2",
   "metadata": {},
   "source": [
    "#### **Save the cleaned and transformed data into cleaned_customer_data.csv:**"
   ]
  },
  {
   "cell_type": "code",
   "execution_count": 22,
   "id": "542c94c0-cd98-4872-a774-bc0afcf37716",
   "metadata": {},
   "outputs": [],
   "source": [
    "cust_df.to_csv(\"cleaned_customer_data.csv\")"
   ]
  },
  {
   "cell_type": "code",
   "execution_count": 23,
   "id": "a0136405-2cca-444f-b31d-14f5986890f9",
   "metadata": {},
   "outputs": [
    {
     "data": {
      "text/html": [
       "<div>\n",
       "<style scoped>\n",
       "    .dataframe tbody tr th:only-of-type {\n",
       "        vertical-align: middle;\n",
       "    }\n",
       "\n",
       "    .dataframe tbody tr th {\n",
       "        vertical-align: top;\n",
       "    }\n",
       "\n",
       "    .dataframe thead th {\n",
       "        text-align: right;\n",
       "    }\n",
       "</style>\n",
       "<table border=\"1\" class=\"dataframe\">\n",
       "  <thead>\n",
       "    <tr style=\"text-align: right;\">\n",
       "      <th></th>\n",
       "      <th>CustomerID</th>\n",
       "      <th>Name</th>\n",
       "      <th>Email</th>\n",
       "      <th>DateOfBirth</th>\n",
       "      <th>RegistrationDate</th>\n",
       "      <th>Country</th>\n",
       "      <th>MonthlySpend</th>\n",
       "      <th>Age</th>\n",
       "    </tr>\n",
       "  </thead>\n",
       "  <tbody>\n",
       "    <tr>\n",
       "      <th>0</th>\n",
       "      <td>1</td>\n",
       "      <td>John Doe</td>\n",
       "      <td>johndoe@example.com</td>\n",
       "      <td>1985-02-15</td>\n",
       "      <td>2024-01-12</td>\n",
       "      <td>United states</td>\n",
       "      <td>200.0</td>\n",
       "      <td>39</td>\n",
       "    </tr>\n",
       "    <tr>\n",
       "      <th>1</th>\n",
       "      <td>2</td>\n",
       "      <td>Jane Smith</td>\n",
       "      <td>janesmith@example.com</td>\n",
       "      <td>1990-08-20</td>\n",
       "      <td>2024-08-26</td>\n",
       "      <td>United states</td>\n",
       "      <td>300.0</td>\n",
       "      <td>34</td>\n",
       "    </tr>\n",
       "    <tr>\n",
       "      <th>2</th>\n",
       "      <td>3</td>\n",
       "      <td>Alan Brown</td>\n",
       "      <td>alanbrown@example.com</td>\n",
       "      <td>1975-01-15</td>\n",
       "      <td>2024-02-05</td>\n",
       "      <td>Canada</td>\n",
       "      <td>150.0</td>\n",
       "      <td>49</td>\n",
       "    </tr>\n",
       "    <tr>\n",
       "      <th>3</th>\n",
       "      <td>4</td>\n",
       "      <td>Eva White</td>\n",
       "      <td>evawhite@example.com</td>\n",
       "      <td>1987-07-30</td>\n",
       "      <td>2024-02-15</td>\n",
       "      <td>United states</td>\n",
       "      <td>400.0</td>\n",
       "      <td>37</td>\n",
       "    </tr>\n",
       "    <tr>\n",
       "      <th>4</th>\n",
       "      <td>5</td>\n",
       "      <td>Mark Black</td>\n",
       "      <td>markblack@example.com</td>\n",
       "      <td>1982-02-12</td>\n",
       "      <td>2024-02-15</td>\n",
       "      <td>Canada</td>\n",
       "      <td>0.0</td>\n",
       "      <td>42</td>\n",
       "    </tr>\n",
       "    <tr>\n",
       "      <th>5</th>\n",
       "      <td>6</td>\n",
       "      <td>Lisa Green</td>\n",
       "      <td>lisagreen@example.com</td>\n",
       "      <td>1979-10-19</td>\n",
       "      <td>2024-04-10</td>\n",
       "      <td>United kingdom</td>\n",
       "      <td>250.0</td>\n",
       "      <td>45</td>\n",
       "    </tr>\n",
       "    <tr>\n",
       "      <th>6</th>\n",
       "      <td>7</td>\n",
       "      <td>Paul Blue</td>\n",
       "      <td>paulblue@example.com</td>\n",
       "      <td>1983-11-03</td>\n",
       "      <td>2024-01-28</td>\n",
       "      <td>United kingdom</td>\n",
       "      <td>0.0</td>\n",
       "      <td>41</td>\n",
       "    </tr>\n",
       "    <tr>\n",
       "      <th>7</th>\n",
       "      <td>8</td>\n",
       "      <td>Alice Pink</td>\n",
       "      <td>alicepink@example.com</td>\n",
       "      <td>1977-04-22</td>\n",
       "      <td>2024-05-18</td>\n",
       "      <td>Mexico</td>\n",
       "      <td>450.0</td>\n",
       "      <td>47</td>\n",
       "    </tr>\n",
       "    <tr>\n",
       "      <th>8</th>\n",
       "      <td>9</td>\n",
       "      <td>Mary Orange</td>\n",
       "      <td>maryorange@example.com</td>\n",
       "      <td>1999-12-31</td>\n",
       "      <td>2024-02-22</td>\n",
       "      <td>France</td>\n",
       "      <td>300.0</td>\n",
       "      <td>25</td>\n",
       "    </tr>\n",
       "    <tr>\n",
       "      <th>9</th>\n",
       "      <td>10</td>\n",
       "      <td>Chris Gray</td>\n",
       "      <td>chrisgray@example.com</td>\n",
       "      <td>1986-12-11</td>\n",
       "      <td>2024-03-01</td>\n",
       "      <td>United states</td>\n",
       "      <td>0.0</td>\n",
       "      <td>38</td>\n",
       "    </tr>\n",
       "  </tbody>\n",
       "</table>\n",
       "</div>"
      ],
      "text/plain": [
       "   CustomerID         Name                   Email DateOfBirth  \\\n",
       "0           1     John Doe     johndoe@example.com  1985-02-15   \n",
       "1           2   Jane Smith   janesmith@example.com  1990-08-20   \n",
       "2           3   Alan Brown   alanbrown@example.com  1975-01-15   \n",
       "3           4    Eva White    evawhite@example.com  1987-07-30   \n",
       "4           5   Mark Black   markblack@example.com  1982-02-12   \n",
       "5           6   Lisa Green   lisagreen@example.com  1979-10-19   \n",
       "6           7    Paul Blue    paulblue@example.com  1983-11-03   \n",
       "7           8   Alice Pink   alicepink@example.com  1977-04-22   \n",
       "8           9  Mary Orange  maryorange@example.com  1999-12-31   \n",
       "9          10   Chris Gray   chrisgray@example.com  1986-12-11   \n",
       "\n",
       "  RegistrationDate         Country  MonthlySpend  Age  \n",
       "0       2024-01-12   United states         200.0   39  \n",
       "1       2024-08-26   United states         300.0   34  \n",
       "2       2024-02-05          Canada         150.0   49  \n",
       "3       2024-02-15   United states         400.0   37  \n",
       "4       2024-02-15          Canada           0.0   42  \n",
       "5       2024-04-10  United kingdom         250.0   45  \n",
       "6       2024-01-28  United kingdom           0.0   41  \n",
       "7       2024-05-18          Mexico         450.0   47  \n",
       "8       2024-02-22          France         300.0   25  \n",
       "9       2024-03-01   United states           0.0   38  "
      ]
     },
     "execution_count": 23,
     "metadata": {},
     "output_type": "execute_result"
    }
   ],
   "source": [
    "cust_df"
   ]
  }
 ],
 "metadata": {
  "kernelspec": {
   "display_name": "Python 3 (ipykernel)",
   "language": "python",
   "name": "python3"
  },
  "language_info": {
   "codemirror_mode": {
    "name": "ipython",
    "version": 3
   },
   "file_extension": ".py",
   "mimetype": "text/x-python",
   "name": "python",
   "nbconvert_exporter": "python",
   "pygments_lexer": "ipython3",
   "version": "3.11.0"
  }
 },
 "nbformat": 4,
 "nbformat_minor": 5
}
